{
 "cells": [
  {
   "cell_type": "markdown",
   "metadata": {},
   "source": [
    "# Numpy Exercise  <img src = \"numpy1.png\">\n",
    "###### Authored by T.K.Senthil Kumar"
   ]
  },
  {
   "cell_type": "markdown",
   "metadata": {},
   "source": [
    "#### 1. Create a numpy array with the number of elements equals your age. The value of array elements is a random number between 10 to your age "
   ]
  },
  {
   "cell_type": "code",
   "execution_count": 6,
   "metadata": {},
   "outputs": [
    {
     "name": "stdout",
     "output_type": "stream",
     "text": [
      "Length of array 29\n",
      "Array is [10.         10.67857143 11.35714286 12.03571429 12.71428571 13.39285714\n",
      " 14.07142857 14.75       15.42857143 16.10714286 16.78571429 17.46428571\n",
      " 18.14285714 18.82142857 19.5        20.17857143 20.85714286 21.53571429\n",
      " 22.21428571 22.89285714 23.57142857 24.25       24.92857143 25.60714286\n",
      " 26.28571429 26.96428571 27.64285714 28.32142857 29.        ]\n"
     ]
    }
   ],
   "source": [
    "import numpy as np\n",
    "#Solution\n",
    "ar=np.linspace(10,29,29)\n",
    "print('Length of array',len(ar))\n",
    "print('Array is',ar)\n",
    "\n"
   ]
  },
  {
   "cell_type": "markdown",
   "metadata": {},
   "source": [
    "#### 2. Create a numpy array between 1 to 50 with the span(space) of 2 and print the length of the array"
   ]
  },
  {
   "cell_type": "code",
   "execution_count": 9,
   "metadata": {},
   "outputs": [
    {
     "name": "stdout",
     "output_type": "stream",
     "text": [
      "Array is [ 1  3  5  7  9 11 13 15 17 19 21 23 25 27 29 31 33 35 37 39 41 43 45 47\n",
      " 49]\n",
      "Length of array is 25\n"
     ]
    }
   ],
   "source": [
    "# Solution\n",
    "ar=np.arange(1,50,2)\n",
    "print('Array is',ar)\n",
    "print('Length of array is',len(ar))\n"
   ]
  },
  {
   "cell_type": "markdown",
   "metadata": {},
   "source": [
    "#### 3. Create an equally spaced numpy array with 27 elements between 4 and 7 "
   ]
  },
  {
   "cell_type": "code",
   "execution_count": 11,
   "metadata": {},
   "outputs": [
    {
     "name": "stdout",
     "output_type": "stream",
     "text": [
      "Array is [4.         4.11538462 4.23076923 4.34615385 4.46153846 4.57692308\n",
      " 4.69230769 4.80769231 4.92307692 5.03846154 5.15384615 5.26923077\n",
      " 5.38461538 5.5        5.61538462 5.73076923 5.84615385 5.96153846\n",
      " 6.07692308 6.19230769 6.30769231 6.42307692 6.53846154 6.65384615\n",
      " 6.76923077 6.88461538 7.        ]\n"
     ]
    }
   ],
   "source": [
    "# Solution\n",
    "ar=np.linspace(4,7,27)\n",
    "print('Array is',ar)\n",
    "    \n"
   ]
  },
  {
   "cell_type": "markdown",
   "metadata": {},
   "source": [
    "#### 4. Create a matrix of size (5 x 4) with random numbers and round off the each elements by only 2 fractional points."
   ]
  },
  {
   "cell_type": "code",
   "execution_count": 15,
   "metadata": {},
   "outputs": [
    {
     "name": "stdout",
     "output_type": "stream",
     "text": [
      "[[0.65 0.5  0.36 0.21]\n",
      " [0.26 0.58 0.95 0.29]\n",
      " [0.4  0.36 0.05 0.02]\n",
      " [0.82 0.65 0.97 0.09]\n",
      " [0.39 0.14 0.88 0.88]]\n"
     ]
    }
   ],
   "source": [
    "# Solution\n",
    "mat1=np.round(np.random.rand(5,4),2)\n",
    "print(mat1)\n"
   ]
  },
  {
   "cell_type": "markdown",
   "metadata": {},
   "source": [
    "#### 5. Create a matrix of size (5x5) with random integers between 5 to 15"
   ]
  },
  {
   "cell_type": "code",
   "execution_count": 16,
   "metadata": {},
   "outputs": [
    {
     "name": "stdout",
     "output_type": "stream",
     "text": [
      "[[10 13 11 11  9]\n",
      " [13 11  8  8  7]\n",
      " [10  6 13 11 11]\n",
      " [14  9  7  6  5]\n",
      " [ 7 10  6 14 10]]\n"
     ]
    }
   ],
   "source": [
    "# Solution\n",
    "mat1=np.random.randint(5,15,size=(5,5))\n",
    "print(mat1)\n",
    "\n"
   ]
  },
  {
   "cell_type": "markdown",
   "metadata": {},
   "source": [
    "#### 6. Create the one dimensional array of zeros of random length below 20 with the data type int32"
   ]
  },
  {
   "cell_type": "code",
   "execution_count": 29,
   "metadata": {},
   "outputs": [
    {
     "name": "stdout",
     "output_type": "stream",
     "text": [
      "[0 0 0 0 0 0 0 0 0 0 0 0 0 0 0 0]\n"
     ]
    }
   ],
   "source": [
    "# Solution\n",
    "arr=np.zeros([np.random.randint(20)],dtype='int32')\n",
    "print(arr)\n",
    "\n"
   ]
  },
  {
   "cell_type": "markdown",
   "metadata": {},
   "source": [
    "#### 7. Create a two dimensional array of ones of random row and column lengths with the data type of float32 "
   ]
  },
  {
   "cell_type": "code",
   "execution_count": 30,
   "metadata": {},
   "outputs": [
    {
     "data": {
      "text/plain": [
       "[[array([1., 1., 1., 1., 1., 1., 1., 1., 1.], dtype=float32)],\n",
       " array([1., 1., 1., 1., 1., 1.], dtype=float32)]"
      ]
     },
     "execution_count": 30,
     "metadata": {},
     "output_type": "execute_result"
    }
   ],
   "source": [
    "# Solution\n",
    "arr=[[np.ones([np.random.randint(10)],dtype='float32')],np.ones([np.random.randint(1,20)],dtype='float32')]\n",
    "\n",
    "arr"
   ]
  },
  {
   "cell_type": "markdown",
   "metadata": {},
   "source": [
    "#### 8. Create a matrix exactly as same as shown below and print its shape, type and dtype\n",
    "<img src = \"np_mat1.png\">"
   ]
  },
  {
   "cell_type": "code",
   "execution_count": 12,
   "metadata": {},
   "outputs": [
    {
     "name": "stdout",
     "output_type": "stream",
     "text": [
      "[[ 9 25 50 34 45]\n",
      " [ 3 34 34 65  2]\n",
      " [ 5  7  3 76  3]\n",
      " [ 7  8  6 54  6]\n",
      " [23 12  8  5  8]]\n",
      "(5, 5)\n",
      "<class 'numpy.ndarray'>\n",
      "int32\n"
     ]
    }
   ],
   "source": [
    "# Solution\n",
    "ar1=np.array([[9,25,50,34,45],[3,34,34,65,2],[5,7,3,76,3],[7,8,6,54,6],[23,12,8,5,8]])\n",
    "print(ar1)\n",
    "print(ar1.shape)\n",
    "print(type(ar1))\n",
    "print(ar1.dtype)\n",
    "\n"
   ]
  },
  {
   "cell_type": "markdown",
   "metadata": {},
   "source": [
    "#### 9. Access the center pixel of the matrix defined in the question no 8 ( Don't enter the row and column index explicitely)"
   ]
  },
  {
   "cell_type": "code",
   "execution_count": 48,
   "metadata": {},
   "outputs": [
    {
     "name": "stdout",
     "output_type": "stream",
     "text": [
      "3\n"
     ]
    }
   ],
   "source": [
    "# Solution\n",
    "a=int((len(ar1)-1)/2)\n",
    "mid=ar1[a,a]\n",
    "print(mid)\n",
    "\n"
   ]
  },
  {
   "cell_type": "markdown",
   "metadata": {},
   "source": [
    "#### 10. Print the all the elements of 3rd row of the matrix"
   ]
  },
  {
   "cell_type": "code",
   "execution_count": 51,
   "metadata": {},
   "outputs": [
    {
     "data": {
      "text/plain": [
       "array([[ 5,  7,  3, 76,  3]])"
      ]
     },
     "execution_count": 51,
     "metadata": {},
     "output_type": "execute_result"
    }
   ],
   "source": [
    "# Solution\n",
    "ar2=ar1[[2],:]\n",
    "ar2\n"
   ]
  },
  {
   "cell_type": "markdown",
   "metadata": {},
   "source": [
    "#### 11. Print the all the elements of 4th columns of the matrix"
   ]
  },
  {
   "cell_type": "code",
   "execution_count": 53,
   "metadata": {},
   "outputs": [
    {
     "data": {
      "text/plain": [
       "array([34, 65, 76, 54,  5])"
      ]
     },
     "execution_count": 53,
     "metadata": {},
     "output_type": "execute_result"
    }
   ],
   "source": [
    "# Solution\n",
    "\n",
    "ar3=ar1[:,3]\n",
    "ar3\n"
   ]
  },
  {
   "cell_type": "markdown",
   "metadata": {},
   "source": [
    "#### 12. Print the 4 corner pixels of the matrix"
   ]
  },
  {
   "cell_type": "code",
   "execution_count": 3,
   "metadata": {},
   "outputs": [
    {
     "data": {
      "text/plain": [
       "array([[ 9, 25],\n",
       "       [23, 12]])"
      ]
     },
     "execution_count": 3,
     "metadata": {},
     "output_type": "execute_result"
    }
   ],
   "source": [
    "# Solution\n",
    "arr=ar1[[0,len(ar1)-1],:]\n",
    "arr\n",
    "arr2=arr[:,[0,len(arr)-1]]\n",
    "arr2\n"
   ]
  },
  {
   "cell_type": "markdown",
   "metadata": {},
   "source": [
    "#### 13. Create three matrix m1,m2,m3 with the elements grouped in the figure below\n",
    "<img src = \"np_mat2.png\">"
   ]
  },
  {
   "cell_type": "code",
   "execution_count": 13,
   "metadata": {},
   "outputs": [
    {
     "name": "stdout",
     "output_type": "stream",
     "text": [
      "[[50 34]\n",
      " [34 65]]\n",
      "[[ 7  8]\n",
      " [23 12]]\n",
      "[[ 3 76  3]\n",
      " [ 6 54  6]\n",
      " [ 8  5  8]]\n"
     ]
    }
   ],
   "source": [
    "# Solution \n",
    "\n",
    "m1=ar1[0:2,2:4]\n",
    "print(m1)\n",
    "m2=ar1[3:,:2]\n",
    "print(m2)\n",
    "m3=ar1[2:,2:]\n",
    "print(m3)\n"
   ]
  },
  {
   "cell_type": "markdown",
   "metadata": {},
   "source": [
    "#### 14. Reshape all the three matrix segmented in the above task in to three  1-dimensional vector."
   ]
  },
  {
   "cell_type": "code",
   "execution_count": 64,
   "metadata": {},
   "outputs": [
    {
     "name": "stdout",
     "output_type": "stream",
     "text": [
      "[[50 34 34 65]]\n",
      "[[ 7  8 23 12]]\n",
      "[[ 3 76  3  6 54  6  8  5  8]]\n"
     ]
    }
   ],
   "source": [
    "# Solution\n",
    "mat1=m1.reshape(1,-1)\n",
    "print(mat1)\n",
    "mat2=m2.reshape(1,-1)\n",
    "print(mat2)\n",
    "mat3=m3.reshape(1,-1)\n",
    "print(mat3)\n",
    "\n"
   ]
  },
  {
   "cell_type": "markdown",
   "metadata": {},
   "source": [
    "#### 15. Concatenate the matrix m1 and m2 in both vertical and horizontal direction"
   ]
  },
  {
   "cell_type": "code",
   "execution_count": 14,
   "metadata": {},
   "outputs": [
    {
     "name": "stdout",
     "output_type": "stream",
     "text": [
      "[[50 34  7  8]\n",
      " [34 65 23 12]]\n",
      "[[50 34]\n",
      " [34 65]\n",
      " [ 7  8]\n",
      " [23 12]]\n"
     ]
    }
   ],
   "source": [
    "import numpy as np\n",
    "# Solution\n",
    "m1=np.squeeze(m1)\n",
    "m2=np.squeeze(m2)\n",
    "hormat=np.hstack((m1,m2))\n",
    "vermat=np.vstack((m1,m2))\n",
    "print(hormat)\n",
    "print(vermat)\n",
    "\n"
   ]
  },
  {
   "cell_type": "markdown",
   "metadata": {},
   "source": [
    "#### 16. Add, Subtract, multiply, divide the matrixes m1 and m2"
   ]
  },
  {
   "cell_type": "code",
   "execution_count": 15,
   "metadata": {},
   "outputs": [
    {
     "name": "stdout",
     "output_type": "stream",
     "text": [
      "[[57 42]\n",
      " [57 77]]\n",
      "[[43 26]\n",
      " [11 53]]\n",
      "[[350 272]\n",
      " [782 780]]\n",
      "[[7.14285714 4.25      ]\n",
      " [1.47826087 5.41666667]]\n"
     ]
    }
   ],
   "source": [
    "# Solution\n",
    "addmat=np.add(m1,m2)\n",
    "print(addmat)\n",
    "submat=np.subtract(m1,m2)\n",
    "print(submat)\n",
    "mulmat=np.multiply(m1,m2)\n",
    "print(mulmat)\n",
    "divadd=np.divide(m1,m2)\n",
    "print(divadd)\n",
    "\n"
   ]
  },
  {
   "cell_type": "markdown",
   "metadata": {},
   "source": [
    "#### 17. Add the m1 with m3 by removing the first row and last column of m3"
   ]
  },
  {
   "cell_type": "code",
   "execution_count": 16,
   "metadata": {},
   "outputs": [
    {
     "name": "stdout",
     "output_type": "stream",
     "text": [
      "[[56 39]\n",
      " [40 70]]\n",
      "[[ 6 54]\n",
      " [ 8  5]]\n",
      "[[56 88]\n",
      " [42 70]]\n"
     ]
    }
   ],
   "source": [
    "# Solution\n",
    "modifiedmat=m3[[1,2],[0,1]]\n",
    "#print(modifiedmat)\n",
    "add1mat=np.add(m1,modifiedmat)\n",
    "print(add1mat)\n",
    "m3_new=m3[1:,:-1]\n",
    "print(m3_new)\n",
    "print(m1+m3_new)"
   ]
  },
  {
   "cell_type": "markdown",
   "metadata": {},
   "source": [
    "#### 18. Form the matrix m4 by concatenating (as a new row) the vector [me1, me2] with the matrix m1, where me1 and me2 are the mean values of each column on m1."
   ]
  },
  {
   "cell_type": "code",
   "execution_count": 38,
   "metadata": {},
   "outputs": [
    {
     "name": "stdout",
     "output_type": "stream",
     "text": [
      "[42.  49.5]\n",
      "[[50.  34. ]\n",
      " [34.  65. ]\n",
      " [42.  49.5]]\n"
     ]
    }
   ],
   "source": [
    "# Solution\n",
    "\n",
    "me1=np.mean([m1[:,[0]]])\n",
    "me2=np.mean([m1[:,[1]]])\n",
    "m=np.array([me1,me2])\n",
    "print(m)\n",
    "m4=np.vstack((m1,m))\n",
    "print(m4)\n",
    "\n",
    "\n"
   ]
  },
  {
   "cell_type": "markdown",
   "metadata": {},
   "source": [
    "#### 19. Perform the matrix multiplication between m3 and m4"
   ]
  },
  {
   "cell_type": "code",
   "execution_count": 39,
   "metadata": {},
   "outputs": [
    {
     "name": "stdout",
     "output_type": "stream",
     "text": [
      "[[2860.  5190.5]\n",
      " [2388.  4011. ]\n",
      " [ 906.   993. ]]\n"
     ]
    }
   ],
   "source": [
    "# Solution\n",
    "\n",
    "matrixmul=np.matmul(m3,m4)\n",
    "print(matrixmul)\n"
   ]
  },
  {
   "cell_type": "markdown",
   "metadata": {},
   "source": [
    "#### 20. Compute the maximum and minimum value of mean, variance, standard deviation for each row of matrix created in question number 8."
   ]
  },
  {
   "cell_type": "code",
   "execution_count": 19,
   "metadata": {},
   "outputs": [
    {
     "name": "stdout",
     "output_type": "stream",
     "text": [
      "[32.6 27.6 18.8 16.2 11.2]\n",
      "[214.64 548.24 820.16 357.76  39.76]\n",
      "[14.65 23.41 28.64 18.91  6.31]\n"
     ]
    }
   ],
   "source": [
    "# Solution\n",
    "\n",
    "mat_me=np.mean(ar1,axis=1)\n",
    "mat_var=np.var(ar1,axis=1)\n",
    "mat_std=np.std(ar1,axis=1)\n",
    "print(np.round((mat_me),2))\n",
    "print(np.round((mat_var),2))\n",
    "print(np.round((mat_std),2))\n"
   ]
  },
  {
   "cell_type": "markdown",
   "metadata": {},
   "source": [
    "#### 21. Compute the average and strike rate for each player and sort it decending way (seperately for avg and strike rate)\n",
    "<img src = 'crick1.png'>"
   ]
  },
  {
   "cell_type": "code",
   "execution_count": 17,
   "metadata": {},
   "outputs": [
    {
     "name": "stdout",
     "output_type": "stream",
     "text": [
      "[['MSD' '54' '60' '10' '65']\n",
      " ['Kholi' '102' '2' '78' '32']\n",
      " ['Rohit' '3' '110' '1' '92']\n",
      " ['Rahul' '56' '6' '12' '42']\n",
      " ['Dhawan' '12' '8' '22' '11']]\n",
      "\n",
      " The run matrix \n",
      " [['54' '60' '10' '65']\n",
      " ['102' '2' '78' '32']\n",
      " ['3' '110' '1' '92']\n",
      " ['56' '6' '12' '42']\n",
      " ['12' '8' '22' '11']]\n",
      "\n",
      " The run matrix in integer \n",
      " [[ 54  60  10  65]\n",
      " [102   2  78  32]\n",
      " [  3 110   1  92]\n",
      " [ 56   6  12  42]\n",
      " [ 12   8  22  11]]\n",
      "\n",
      " The average score for each player \n",
      " [47.25 53.5  51.5  29.   13.25]\n",
      "\n",
      " Players score with Average \n",
      " [['MSD' '54' '60' '10' '65' '47.25']\n",
      " ['Kholi' '102' '2' '78' '32' '53.5']\n",
      " ['Rohit' '3' '110' '1' '92' '51.5']\n",
      " ['Rahul' '56' '6' '12' '42' '29.0']\n",
      " ['Dhawan' '12' '8' '22' '11' '13.25']]\n",
      "\n",
      " Final player oder list based on their average \n",
      " [['Kholi' '102' '2' '78' '32' '53.5']\n",
      " ['Rohit' '3' '110' '1' '92' '51.5']\n",
      " ['MSD' '54' '60' '10' '65' '47.25']\n",
      " ['Rahul' '56' '6' '12' '42' '29.0']\n",
      " ['Dhawan' '12' '8' '22' '11' '13.25']]\n"
     ]
    }
   ],
   "source": [
    "# Solution \n",
    "score=np.array([['MSD',54,60,10,65],['Kholi',102,2,78,32],['Rohit',3,110,1,92],\n",
    "                ['Rahul',56,6,12,42],['Dhawan',12,8,22,11]])\n",
    "print(score)\n",
    "run=score[:,1:5]\n",
    "print(\"\\n The run matrix \\n\",run)\n",
    "run1=run.astype('int32')  # to make the run as integer\n",
    "print('\\n The run matrix in integer \\n',run1)\n",
    "\n",
    "avg=run1.mean(axis=1)\n",
    "print(\"\\n The average score for each player \\n\",avg)\n",
    "\n",
    "avg1=avg.reshape([5,1])\n",
    "score_avg=np.concatenate([score,avg1],axis=1) # concatenating the average value as last column\n",
    "print('\\n Players score with Average \\n',score_avg)\n",
    "\n",
    "ind=avg.argsort() # to get the index based on sort (ascending)\n",
    "final_list=score_avg[ind,:][::-1] #::1 is the operator which sort in a desending way\n",
    "print('\\n Final player oder list based on their average \\n',final_list)\n"
   ]
  },
  {
   "cell_type": "markdown",
   "metadata": {},
   "source": [
    "#### 22. The students mark was recorded in a numpy array: marks = np.array([65,84,47,56,89,98,48,77,80,39]).  Cutoff for pass is 50 marks. Write the logic to print the number of students passed and failed. "
   ]
  },
  {
   "cell_type": "code",
   "execution_count": 4,
   "metadata": {},
   "outputs": [
    {
     "name": "stdout",
     "output_type": "stream",
     "text": [
      "The Number of Students passed =  7\n",
      "The Number of Students failed =  3\n"
     ]
    }
   ],
   "source": [
    "# Solution\n",
    "marks=np.array([65,84,47,56,89,98,48,77,80,39])\n",
    "\n",
    "pass_ind=np.where(marks>=50)\n",
    "pass_marks=marks[pass_ind]\n",
    "\n",
    "fail_ind=np.where(marks<50)\n",
    "fail_marks=marks[fail_ind]\n",
    "\n",
    "print('The Number of Students passed = ',len(pass_marks))\n",
    "print('The Number of Students failed = ',len(fail_marks))\n"
   ]
  },
  {
   "cell_type": "markdown",
   "metadata": {},
   "source": [
    "#### 23. The class incharge decided to give a mercy mark of 5 for those who scored between 45 and 49. Also the bonus of 5 marks awarded to the students who scored more than 80. Print all the student marks and compute the increase in the pass percentage of class. Any score more than 100 must be recorded as only 100."
   ]
  },
  {
   "cell_type": "code",
   "execution_count": 5,
   "metadata": {},
   "outputs": [
    {
     "name": "stdout",
     "output_type": "stream",
     "text": [
      "Actual Students marks \n",
      " [65 84 47 56 89 98 48 77 80 39]\n",
      "Boosted Students marks \n",
      " [ 65  89  52  56  94 100  53  77  80  39]\n",
      "The increase in pass percentage is :  20.0\n"
     ]
    }
   ],
   "source": [
    "# Solution\n",
    "\n",
    "boost_mark=marks.copy()\n",
    "mercy_ind=np.where((boost_mark>=45) & (boost_mark<=49))\n",
    "boost_mark[mercy_ind]=boost_mark[mercy_ind]+5\n",
    "\n",
    "bonus_ind=np.where((boost_mark>80) & (boost_mark<=95))\n",
    "boost_mark[bonus_ind]=boost_mark[bonus_ind]+5\n",
    "\n",
    "bonus_ind1=np.where(boost_mark>95)\n",
    "boost_mark[bonus_ind1]=100\n",
    "\n",
    "print('Actual Students marks \\n',marks)\n",
    "print('Boosted Students marks \\n',boost_mark)\n",
    "\n",
    "actual_pass_percent=(len(marks[np.where(marks>=50)])/len(marks))*100 \n",
    "boosted_pass_percent=(len(boost_mark[np.where(boost_mark>=50)])/len(boost_mark))*100 \n",
    "inc_pass_percent=boosted_pass_percent-actual_pass_percent\n",
    "print('The increase in pass percentage is : ',inc_pass_percent)\n"
   ]
  },
  {
   "cell_type": "markdown",
   "metadata": {},
   "source": [
    "#### 24. Print the time taken for performing the following operation using list and numpy array\n",
    "####       (x(i)^2 +8) / y(i),   where x and y are real integers from 1 to 60000"
   ]
  },
  {
   "cell_type": "code",
   "execution_count": 3,
   "metadata": {},
   "outputs": [
    {
     "name": "stdout",
     "output_type": "stream",
     "text": [
      "Time taken to complete the computation using LIST is :  293.1938171386719\n",
      "Time taken to complete the computation using NUMPY ARRAY is :  3.0035972595214844\n"
     ]
    }
   ],
   "source": [
    "# Solution\n",
    "import numpy as np\n",
    "import time\n",
    "x=range(1,60000)\n",
    "y=range(1,60000)\n",
    "out=[]\n",
    "\n",
    "st=time.time()\n",
    "for i,j in zip(x,y):\n",
    "    out.append((x[i-1]*x[i-1]+8)/y[i-1])\n",
    "\n",
    "print('Time taken to complete the computation using LIST is : ', (time.time()-st)*1000)\n",
    "\n",
    "x_ar=np.arange(1,60000)\n",
    "y_ar=np.arange(1,60000)\n",
    "st_ar=time.time()\n",
    "out_ar=((x_ar*x_ar)+8)/y_ar\n",
    "print('Time taken to complete the computation using NUMPY ARRAY is : ', (time.time()-st_ar)*1000)\n",
    "\n"
   ]
  },
  {
   "cell_type": "markdown",
   "metadata": {},
   "source": [
    "#### 25. Create a Github account and upload your solution with the short write-up on Numpy"
   ]
  },
  {
   "cell_type": "code",
   "execution_count": null,
   "metadata": {},
   "outputs": [],
   "source": [
    "# Solution\n",
    "\n",
    "\n",
    "\n"
   ]
  }
 ],
 "metadata": {
  "kernelspec": {
   "display_name": "Python 3",
   "language": "python",
   "name": "python3"
  },
  "language_info": {
   "codemirror_mode": {
    "name": "ipython",
    "version": 3
   },
   "file_extension": ".py",
   "mimetype": "text/x-python",
   "name": "python",
   "nbconvert_exporter": "python",
   "pygments_lexer": "ipython3",
   "version": "3.7.4"
  }
 },
 "nbformat": 4,
 "nbformat_minor": 2
}
